{
 "cells": [
  {
   "cell_type": "markdown",
   "id": "d299d70f",
   "metadata": {},
   "source": [
    "### Question 1.\n",
    "\n",
    "* You collected data about coral cover (number of coral heads from a species X) in 100 quadrats in 2018 in region Y.\n",
    " * Quadrat size in not relevant or important\n",
    "* You hypothesize that the environmental stressor that occurred earlier caused a deciline in species X's coverage in the region Y\n",
    "* You re-assessed the coral coverage in 25 of the quadrats you initially sampled in 2018 \n",
    "\n",
    "* Use sampling to conclude whether the average coverage has decrease between 2018 and after the stressor event.\n",
    "  * Plot your result and compute the p-value of the event.\n",
    "  * i.e., what does the null distrubution for averages look like and where does your actual observer value occur\n",
    "\n",
    "* Use the data is below. \n"
   ]
  },
  {
   "cell_type": "code",
   "execution_count": 2,
   "id": "82a685e1",
   "metadata": {
    "scrolled": false
   },
   "outputs": [
    {
     "name": "stderr",
     "output_type": "stream",
     "text": [
      "Registered S3 methods overwritten by 'ggplot2':\n",
      "  method         from \n",
      "  [.quosures     rlang\n",
      "  c.quosures     rlang\n",
      "  print.quosures rlang\n",
      "Registered S3 method overwritten by 'rvest':\n",
      "  method            from\n",
      "  read_xml.response xml2\n",
      "-- \u001b[1mAttaching packages\u001b[22m --------------------------------------- tidyverse 1.2.1 --\n",
      "\u001b[32mv\u001b[39m \u001b[34mggplot2\u001b[39m 3.1.1       \u001b[32mv\u001b[39m \u001b[34mpurrr  \u001b[39m 0.3.2  \n",
      "\u001b[32mv\u001b[39m \u001b[34mtibble \u001b[39m 2.1.1       \u001b[32mv\u001b[39m \u001b[34mdplyr  \u001b[39m 0.8.0.\u001b[31m1\u001b[39m\n",
      "\u001b[32mv\u001b[39m \u001b[34mtidyr  \u001b[39m 0.8.3       \u001b[32mv\u001b[39m \u001b[34mstringr\u001b[39m 1.4.0  \n",
      "\u001b[32mv\u001b[39m \u001b[34mreadr  \u001b[39m 1.3.1       \u001b[32mv\u001b[39m \u001b[34mforcats\u001b[39m 0.4.0  \n",
      "-- \u001b[1mConflicts\u001b[22m ------------------------------------------ tidyverse_conflicts() --\n",
      "\u001b[31mx\u001b[39m \u001b[34mdplyr\u001b[39m::\u001b[32mfilter()\u001b[39m masks \u001b[34mstats\u001b[39m::filter()\n",
      "\u001b[31mx\u001b[39m \u001b[34mdplyr\u001b[39m::\u001b[32mlag()\u001b[39m    masks \u001b[34mstats\u001b[39m::lag()\n",
      "Parsed with column specification:\n",
      "cols(\n",
      "  transect_id = \u001b[32mcol_double()\u001b[39m,\n",
      "  coverage = \u001b[32mcol_double()\u001b[39m\n",
      ")\n"
     ]
    },
    {
     "data": {
      "text/html": [
       "<table>\n",
       "<thead><tr><th scope=col>transect_id</th><th scope=col>coverage</th></tr></thead>\n",
       "<tbody>\n",
       "\t<tr><td>1 </td><td>26</td></tr>\n",
       "\t<tr><td>2 </td><td>32</td></tr>\n",
       "\t<tr><td>3 </td><td>21</td></tr>\n",
       "\t<tr><td>4 </td><td>21</td></tr>\n",
       "\t<tr><td>5 </td><td>26</td></tr>\n",
       "\t<tr><td>6 </td><td>23</td></tr>\n",
       "</tbody>\n",
       "</table>\n"
      ],
      "text/latex": [
       "\\begin{tabular}{r|ll}\n",
       " transect\\_id & coverage\\\\\n",
       "\\hline\n",
       "\t 1  & 26\\\\\n",
       "\t 2  & 32\\\\\n",
       "\t 3  & 21\\\\\n",
       "\t 4  & 21\\\\\n",
       "\t 5  & 26\\\\\n",
       "\t 6  & 23\\\\\n",
       "\\end{tabular}\n"
      ],
      "text/markdown": [
       "\n",
       "| transect_id | coverage |\n",
       "|---|---|\n",
       "| 1  | 26 |\n",
       "| 2  | 32 |\n",
       "| 3  | 21 |\n",
       "| 4  | 21 |\n",
       "| 5  | 26 |\n",
       "| 6  | 23 |\n",
       "\n"
      ],
      "text/plain": [
       "  transect_id coverage\n",
       "1 1           26      \n",
       "2 2           32      \n",
       "3 3           21      \n",
       "4 4           21      \n",
       "5 5           26      \n",
       "6 6           23      "
      ]
     },
     "metadata": {},
     "output_type": "display_data"
    }
   ],
   "source": [
    "library(tidyverse)\n",
    "data_2018 = read_csv(\"data/survey_2018.csv\")\n",
    "head(data_2018)"
   ]
  },
  {
   "cell_type": "code",
   "execution_count": 18,
   "id": "5f4b55a2",
   "metadata": {},
   "outputs": [],
   "source": [
    "set.seed(42)\n",
    "n = 10000\n",
    "\n",
    "samples_means = n %>%\n",
    "  replicate(sample(data_2018$coverage, 25)) %>%\n",
    "  t() %>%\n",
    "  apply(  1, mean)"
   ]
  },
  {
   "cell_type": "code",
   "execution_count": 19,
   "id": "8fe7c8c4",
   "metadata": {
    "scrolled": false
   },
   "outputs": [
    {
     "data": {
      "image/png": "[encoded data removed]",
      "text/plain": [
       "plot without title"
      ]
     },
     "metadata": {},
     "output_type": "display_data"
    }
   ],
   "source": [
    "ggplot() + \n",
    "  geom_histogram(aes(x=samples_means, y=..density..), bins = 25, alpha=0.1, color=\"black\", size=0.05) +\n",
    "  geom_density(aes(x=samples_means), color=\"black\")"
   ]
  },
  {
   "cell_type": "code",
   "execution_count": 20,
   "id": "151b10b9",
   "metadata": {},
   "outputs": [
    {
     "data": {
      "text/html": [
       "20.805944"
      ],
      "text/latex": [
       "20.805944"
      ],
      "text/markdown": [
       "20.805944"
      ],
      "text/plain": [
       "[1] 20.80594"
      ]
     },
     "metadata": {},
     "output_type": "display_data"
    }
   ],
   "source": [
    "mean(samples_means)"
   ]
  },
  {
   "cell_type": "code",
   "execution_count": 44,
   "id": "7cbaaafa",
   "metadata": {
    "scrolled": true
   },
   "outputs": [
    {
     "name": "stderr",
     "output_type": "stream",
     "text": [
      "Parsed with column specification:\n",
      "cols(\n",
      "  `transect_id\" \"coverage` = \u001b[31mcol_character()\u001b[39m\n",
      ")\n",
      "Warning message:\n",
      "\"50 parsing failures.\n",
      "row                    col           expected actual                      file\n",
      "  1 transect_id\" \"coverage delimiter or quote        'data/re_sample_2021.csv'\n",
      "  1 transect_id\" \"coverage delimiter or quote      2 'data/re_sample_2021.csv'\n",
      "  1 transect_id\" \"coverage delimiter or quote        'data/re_sample_2021.csv'\n",
      "  1 transect_id\" \"coverage delimiter or quote      3 'data/re_sample_2021.csv'\n",
      "  1 transect_id\" \"coverage delimiter or quote        'data/re_sample_2021.csv'\n",
      "... ...................... .................. ...... .........................\n",
      "See problems(...) for more details.\n",
      "\""
     ]
    },
    {
     "data": {
      "text/plain": [
       "cols(\n",
       "  experiement_id = \u001b[32mcol_integer()\u001b[39m,\n",
       "  transect_id = \u001b[32mcol_integer()\u001b[39m,\n",
       "  coverage = \u001b[32mcol_integer()\u001b[39m\n",
       ")"
      ]
     },
     "metadata": {},
     "output_type": "display_data"
    },
    {
     "data": {
      "text/html": [
       "<table>\n",
       "<thead><tr><th scope=col>transect_id\" \"coverage</th></tr></thead>\n",
       "<tbody>\n",
       "\t<tr><td>1\" 46 24\r\n",
       "\"2\" 20 22\r\n",
       "\"3\" 10 26\r\n",
       "\"4\" 18 21\r\n",
       "\"5\" 11 30\r\n",
       "\"6\" 56 21\r\n",
       "\"7\" 38 22\r\n",
       "\"8\" 40 35\r\n",
       "\"9\" 57 27\r\n",
       "\"10\" 50 23\r\n",
       "\"11\" 31 28\r\n",
       "\"12\" 60 22\r\n",
       "\"13\" 22 31\r\n",
       "\"14\" 89 21\r\n",
       "\"15\" 33 23\r\n",
       "\"16\" 83 15\r\n",
       "\"17\" 96 15\r\n",
       "\"18\" 29 26\r\n",
       "\"19\" 86 32\r\n",
       "\"20\" 25 31\r\n",
       "\"21\" 65 16\r\n",
       "\"22\" 75 21\r\n",
       "\"23\" 39 17\r\n",
       "\"24\" 48 30\r\n",
       "\"25\" 19 13\r\n",
       "</td></tr>\n",
       "</tbody>\n",
       "</table>\n"
      ],
      "text/latex": [
       "\\begin{tabular}{r|l}\n",
       " transect\\_id\" \"coverage\\\\\n",
       "\\hline\n",
       "\t 1\" 46 24\r\n",
       "\"2\" 20 22\r\n",
       "\"3\" 10 26\r\n",
       "\"4\" 18 21\r\n",
       "\"5\" 11 30\r\n",
       "\"6\" 56 21\r\n",
       "\"7\" 38 22\r\n",
       "\"8\" 40 35\r\n",
       "\"9\" 57 27\r\n",
       "\"10\" 50 23\r\n",
       "\"11\" 31 28\r\n",
       "\"12\" 60 22\r\n",
       "\"13\" 22 31\r\n",
       "\"14\" 89 21\r\n",
       "\"15\" 33 23\r\n",
       "\"16\" 83 15\r\n",
       "\"17\" 96 15\r\n",
       "\"18\" 29 26\r\n",
       "\"19\" 86 32\r\n",
       "\"20\" 25 31\r\n",
       "\"21\" 65 16\r\n",
       "\"22\" 75 21\r\n",
       "\"23\" 39 17\r\n",
       "\"24\" 48 30\r\n",
       "\"25\" 19 13\r\n",
       "\\\\\n",
       "\\end{tabular}\n"
      ],
      "text/markdown": [
       "\n",
       "| transect_id\" \"coverage |\n",
       "|---|\n",
       "| 1\" 46 24\r\n",
       "\"2\" 20 22\r\n",
       "\"3\" 10 26\r\n",
       "\"4\" 18 21\r\n",
       "\"5\" 11 30\r\n",
       "\"6\" 56 21\r\n",
       "\"7\" 38 22\r\n",
       "\"8\" 40 35\r\n",
       "\"9\" 57 27\r\n",
       "\"10\" 50 23\r\n",
       "\"11\" 31 28\r\n",
       "\"12\" 60 22\r\n",
       "\"13\" 22 31\r\n",
       "\"14\" 89 21\r\n",
       "\"15\" 33 23\r\n",
       "\"16\" 83 15\r\n",
       "\"17\" 96 15\r\n",
       "\"18\" 29 26\r\n",
       "\"19\" 86 32\r\n",
       "\"20\" 25 31\r\n",
       "\"21\" 65 16\r\n",
       "\"22\" 75 21\r\n",
       "\"23\" 39 17\r\n",
       "\"24\" 48 30\r\n",
       "\"25\" 19 13\r\n",
       " |\n",
       "\n"
      ],
      "text/plain": [
       "  transect_id\" \"coverage                                                                                                                                                                                                                                                                                                                              \n",
       "1 1\" 46 24\\r\\n\"2\" 20 22\\r\\n\"3\" 10 26\\r\\n\"4\" 18 21\\r\\n\"5\" 11 30\\r\\n\"6\" 56 21\\r\\n\"7\" 38 22\\r\\n\"8\" 40 35\\r\\n\"9\" 57 27\\r\\n\"10\" 50 23\\r\\n\"11\" 31 28\\r\\n\"12\" 60 22\\r\\n\"13\" 22 31\\r\\n\"14\" 89 21\\r\\n\"15\" 33 23\\r\\n\"16\" 83 15\\r\\n\"17\" 96 15\\r\\n\"18\" 29 26\\r\\n\"19\" 86 32\\r\\n\"20\" 25 31\\r\\n\"21\" 65 16\\r\\n\"22\" 75 21\\r\\n\"23\" 39 17\\r\\n\"24\" 48 30\\r\\n\"25\" 19 13\\r\\n"
      ]
     },
     "metadata": {},
     "output_type": "display_data"
    }
   ],
   "source": [
    "cover_2021 = read_csv(\"data/re_sample_2021.csv\")\n",
    "cols(\n",
    "    experiement_id = col_integer(),\n",
    "    transect_id = col_integer(),\n",
    "    coverage = col_integer()\n",
    ")\n",
    "head(cover_2021)"
   ]
  },
  {
   "cell_type": "code",
   "execution_count": 45,
   "id": "01b47751",
   "metadata": {},
   "outputs": [
    {
     "name": "stderr",
     "output_type": "stream",
     "text": [
      "Warning message:\n",
      "\"Unknown or uninitialised column: 'coverage'.\"Warning message in mean.default(cover_2021$coverage):\n",
      "\"argument is not numeric or logical: returning NA\""
     ]
    },
    {
     "data": {
      "text/html": [
       "&lt;NA&gt;"
      ],
      "text/latex": [
       "<NA>"
      ],
      "text/markdown": [
       "&lt;NA&gt;"
      ],
      "text/plain": [
       "[1] NA"
      ]
     },
     "metadata": {},
     "output_type": "display_data"
    }
   ],
   "source": [
    "mean_2021 = mean(cover_2021$coverage)\n",
    "mean_2021"
   ]
  }
 ],
 "metadata": {
  "kernelspec": {
   "display_name": "R",
   "language": "R",
   "name": "ir"
  },
  "language_info": {
   "codemirror_mode": "r",
   "file_extension": ".r",
   "mimetype": "text/x-r-source",
   "name": "R",
   "pygments_lexer": "r",
   "version": "3.6.1"
  }
 },
 "nbformat": 4,
 "nbformat_minor": 5
}
